{
 "cells": [
  {
   "cell_type": "markdown",
   "metadata": {},
   "source": [
    "## Python Skills"
   ]
  },
  {
   "cell_type": "markdown",
   "metadata": {},
   "source": [
    "I have intermediate Python coding skills. I am proficient at scripting but I would like to work on building code packages that function as modules that can be deployed and tested easily by others. "
   ]
  },
  {
   "cell_type": "markdown",
   "metadata": {},
   "source": [
    "## Open-science Workflow"
   ]
  },
  {
   "cell_type": "markdown",
   "metadata": {},
   "source": [
    "I am very interested in and excited about open-science workflows. It is important to me that my work is reproducible and accessible to others."
   ]
  },
  {
   "cell_type": "markdown",
   "metadata": {},
   "source": [
    "## ML Geoscience Project"
   ]
  },
  {
   "cell_type": "markdown",
   "metadata": {},
   "source": [
    "I will not be doing the Final project for this course because I am auditing the course. However, I use machine learning in my research. I am currently working on a project that uses machine learning to predict liquefaction hazard at map scale. I want to learn how to do this according to best practices and to learn how to deploy my models in a way that is accessible to others (i.e., GitHub)."
   ]
  }
 ],
 "metadata": {
  "language_info": {
   "name": "python"
  }
 },
 "nbformat": 4,
 "nbformat_minor": 2
}
